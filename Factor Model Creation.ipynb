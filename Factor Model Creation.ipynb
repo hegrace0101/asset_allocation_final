{
 "cells": [
  {
   "cell_type": "code",
   "execution_count": 87,
   "metadata": {},
   "outputs": [],
   "source": [
    "import pandas as pd\n",
    "import numpy as np\n",
    "import statsmodels.api as sm\n",
    "import datetime"
   ]
  },
  {
   "cell_type": "markdown",
   "metadata": {},
   "source": [
    "Original attempt was to create custom market factors for within the S&P universe. After extensive searching it was found impossible to collect the data required without paying for a service. Therefore an alternative method of evaluating the factor model was required. \n",
    "\n",
    "* Chose to implement Asness and Frazzini's HML calculation, and see how it performs not just in 5 factor (as in their literature) but also for 3 factor and 6 factor"
   ]
  },
  {
   "cell_type": "markdown",
   "metadata": {},
   "source": [
    "Exploring the difference between Fama French factors vs Asness and Frazzini factors as explained in Asness, C.S, and Frazzini, A. (2013), The Devil in HML’s Details. \n",
    "\n",
    "Information on paper can be found: `https://www.aqr.com/Insights/Research/Journal-Article/The-Devil-in-HMLs-Details`\n",
    "\n",
    "Paper can be found: `https://www.iijournalseprint.com/JPM/AQR/Sum13DevilinHMLsDetails05t/index.html`\n",
    "\n",
    "Data can be found: `https://www.aqr.com/Insights/Datasets/The-Devil-in-HMLs-Details-Factors-Monthly`\n",
    "\n",
    "The Journal of Portfolio Management, Vol. 39, No. 4, pp. 49-68"
   ]
  },
  {
   "cell_type": "markdown",
   "metadata": {},
   "source": [
    "# 3 Factor Model FF vs Asness and Frazzini"
   ]
  },
  {
   "cell_type": "code",
   "execution_count": 88,
   "metadata": {},
   "outputs": [],
   "source": [
    "factorDF = pd.DataFrame()\n",
    "for factor in ['MKT','HML Devil','HML FF','SMB', 'RF']:\n",
    "    if factor != \"RF\":\n",
    "        factorDF[factor] = pd.read_excel(\n",
    "            \"The Devil in HMLs Details Factors Monthly.xlsx\", sheet_name=factor, index_col=0, header=18)['USA']\n",
    "    else:\n",
    "        factorDF[factor] = pd.read_excel(\n",
    "            \"The Devil in HMLs Details Factors Monthly.xlsx\", sheet_name=factor, index_col=0, header=18)\n",
    "factorDF = factorDF * 100"
   ]
  },
  {
   "cell_type": "code",
   "execution_count": 89,
   "metadata": {},
   "outputs": [],
   "source": [
    "def sampleMeanVariant(sigmahat, muhat, rf, kappa):\n",
    "    e = np.ones((sigmahat.shape[0], 1))\n",
    "    H = (muhat - rf*e).T @ np.linalg.inv(sigmahat) @ (muhat - rf*e)\n",
    "    aStar = (kappa-rf)/H * np.linalg.inv(sigmahat) @ (muhat - rf*e)\n",
    "    return aStar"
   ]
  },
  {
   "cell_type": "markdown",
   "metadata": {},
   "source": [
    "### Using fake data here bc kais has yet to get S&P returns\n",
    "\n",
    "* Important to keep in mind here we are exploring monthly data. That goes for asset returns, factor returns, and rf rate. "
   ]
  },
  {
   "cell_type": "code",
   "execution_count": 90,
   "metadata": {},
   "outputs": [
    {
     "data": {
      "text/html": [
       "<div>\n",
       "<style scoped>\n",
       "    .dataframe tbody tr th:only-of-type {\n",
       "        vertical-align: middle;\n",
       "    }\n",
       "\n",
       "    .dataframe tbody tr th {\n",
       "        vertical-align: top;\n",
       "    }\n",
       "\n",
       "    .dataframe thead th {\n",
       "        text-align: right;\n",
       "    }\n",
       "</style>\n",
       "<table border=\"1\" class=\"dataframe\">\n",
       "  <thead>\n",
       "    <tr style=\"text-align: right;\">\n",
       "      <th></th>\n",
       "      <th>msft</th>\n",
       "      <th>aapl</th>\n",
       "      <th>google</th>\n",
       "    </tr>\n",
       "    <tr>\n",
       "      <th>Date</th>\n",
       "      <th></th>\n",
       "      <th></th>\n",
       "      <th></th>\n",
       "    </tr>\n",
       "  </thead>\n",
       "  <tbody>\n",
       "    <tr>\n",
       "      <th>2013-03-01</th>\n",
       "      <td>0.037658</td>\n",
       "      <td>0.008699</td>\n",
       "      <td>-0.008749</td>\n",
       "    </tr>\n",
       "    <tr>\n",
       "      <th>2013-04-01</th>\n",
       "      <td>0.156937</td>\n",
       "      <td>0.000271</td>\n",
       "      <td>0.038253</td>\n",
       "    </tr>\n",
       "    <tr>\n",
       "      <th>2013-05-01</th>\n",
       "      <td>0.054381</td>\n",
       "      <td>0.015697</td>\n",
       "      <td>0.056575</td>\n",
       "    </tr>\n",
       "    <tr>\n",
       "      <th>2013-06-01</th>\n",
       "      <td>-0.003375</td>\n",
       "      <td>-0.112457</td>\n",
       "      <td>0.010503</td>\n",
       "    </tr>\n",
       "    <tr>\n",
       "      <th>2013-07-01</th>\n",
       "      <td>-0.078170</td>\n",
       "      <td>0.141225</td>\n",
       "      <td>0.008383</td>\n",
       "    </tr>\n",
       "    <tr>\n",
       "      <th>...</th>\n",
       "      <td>...</td>\n",
       "      <td>...</td>\n",
       "      <td>...</td>\n",
       "    </tr>\n",
       "    <tr>\n",
       "      <th>2022-09-01</th>\n",
       "      <td>-0.107376</td>\n",
       "      <td>-0.119756</td>\n",
       "      <td>-0.116152</td>\n",
       "    </tr>\n",
       "    <tr>\n",
       "      <th>2022-10-01</th>\n",
       "      <td>-0.003306</td>\n",
       "      <td>0.109551</td>\n",
       "      <td>-0.011918</td>\n",
       "    </tr>\n",
       "    <tr>\n",
       "      <th>2022-11-01</th>\n",
       "      <td>0.099125</td>\n",
       "      <td>-0.034629</td>\n",
       "      <td>0.068564</td>\n",
       "    </tr>\n",
       "    <tr>\n",
       "      <th>2022-12-01</th>\n",
       "      <td>-0.057396</td>\n",
       "      <td>-0.120817</td>\n",
       "      <td>-0.126349</td>\n",
       "    </tr>\n",
       "    <tr>\n",
       "      <th>2023-01-01</th>\n",
       "      <td>0.033317</td>\n",
       "      <td>0.110521</td>\n",
       "      <td>0.120254</td>\n",
       "    </tr>\n",
       "  </tbody>\n",
       "</table>\n",
       "<p>119 rows × 3 columns</p>\n",
       "</div>"
      ],
      "text/plain": [
       "                msft      aapl    google\n",
       "Date                                    \n",
       "2013-03-01  0.037658  0.008699 -0.008749\n",
       "2013-04-01  0.156937  0.000271  0.038253\n",
       "2013-05-01  0.054381  0.015697  0.056575\n",
       "2013-06-01 -0.003375 -0.112457  0.010503\n",
       "2013-07-01 -0.078170  0.141225  0.008383\n",
       "...              ...       ...       ...\n",
       "2022-09-01 -0.107376 -0.119756 -0.116152\n",
       "2022-10-01 -0.003306  0.109551 -0.011918\n",
       "2022-11-01  0.099125 -0.034629  0.068564\n",
       "2022-12-01 -0.057396 -0.120817 -0.126349\n",
       "2023-01-01  0.033317  0.110521  0.120254\n",
       "\n",
       "[119 rows x 3 columns]"
      ]
     },
     "execution_count": 90,
     "metadata": {},
     "output_type": "execute_result"
    }
   ],
   "source": [
    "msft = pd.read_csv('msft.csv', parse_dates=True, index_col=0)['Adj Close']\n",
    "aapl = pd.read_csv('aapl.csv', parse_dates=True, index_col=0)['Adj Close']\n",
    "googl = pd.read_csv('googl.csv', parse_dates=True, index_col=0)['Adj Close']\n",
    "\n",
    "returns = pd.DataFrame({'msft': msft, 'aapl': aapl, 'google': googl})\n",
    "returns = returns.pct_change().dropna()\n",
    "returns"
   ]
  },
  {
   "cell_type": "code",
   "execution_count": 91,
   "metadata": {},
   "outputs": [],
   "source": [
    "def factorModel(returns, factorDF, rf, kappa, numFactors):\n",
    "    \"\"\" \n",
    "    returns - monthly returns dataframe of each equity (m,d)\n",
    "    factorDF - df of excess market returns, SMB, HML\n",
    "    rf - series of rf rate\n",
    "    kappa - targeted expected return for portfolio\n",
    "    numFactors - the number of factors in the model\n",
    "    \"\"\"\n",
    "\n",
    "    d = returns.shape[1]\n",
    "    # Compute the excess returns of each asset\n",
    "    excess_returns = returns.sub(rf,axis=0).values\n",
    "#     import ipdb\n",
    "#     ipdb.set_trace()\n",
    "    # Define arrays to store the beta coefficients and residual variances\n",
    "    betas = np.zeros((d, numFactors))\n",
    "    residual_variances = np.zeros((d))\n",
    "\n",
    "    # Perform the OLS regression for each asset\n",
    "    for i in range(d):\n",
    "        # Extract the excess returns of the i-th asset\n",
    "        excess_asset_returns = excess_returns[:,i]\n",
    "\n",
    "        # Define the OLS model with the R-rf ~ MF-rf + SMB + HML\n",
    "        model = sm.OLS(excess_asset_returns,\n",
    "                       sm.add_constant(factorDF))\n",
    "\n",
    "        # Fit the model and extract the regression coefficients and residuals\n",
    "        results = model.fit()\n",
    "        beta = results.params[1:]\n",
    "        residuals = results.resid\n",
    "\n",
    "        # Store the beta coefficients and residual variance for the i-th asset\n",
    "        betas[i] = beta\n",
    "        residual_variances[i] = np.var(residuals, ddof=numFactors + 1)\n",
    "        \n",
    "    sigmaFactor = np.cov(factorDF.T)\n",
    "    Dhat = np.diag(residual_variances)\n",
    "    sigmahat = betas@sigmaFactor@betas.T + Dhat\n",
    "    muhat = returns.mean(axis=0).values.reshape((-1, 1))\n",
    "    # pass most recent rf \n",
    "    return sampleMeanVariant(sigmahat, muhat, rf[-1], kappa)\n"
   ]
  },
  {
   "cell_type": "markdown",
   "metadata": {},
   "source": [
    "### See how FF HML allocation compares to Asness and Frazzini HML allocation in 3 Factor"
   ]
  },
  {
   "cell_type": "code",
   "execution_count": 94,
   "metadata": {},
   "outputs": [],
   "source": [
    "testFactor = factorDF[['MKT', 'SMB', 'HML Devil']].loc['02/28/2013':'12/31/2022']\n",
    "returns.set_index(testFactor.index,inplace=True)"
   ]
  },
  {
   "cell_type": "code",
   "execution_count": 95,
   "metadata": {},
   "outputs": [
    {
     "data": {
      "text/plain": [
       "array([[0.26593822],\n",
       "       [0.20211585],\n",
       "       [0.23471591]])"
      ]
     },
     "execution_count": 95,
     "metadata": {},
     "output_type": "execute_result"
    }
   ],
   "source": [
    "factorModel(returns, factorDF[['MKT', 'SMB', 'HML Devil']].loc['02/28/2013':'12/31/2022'], factorDF['RF'].loc['02/28/2013':'12/31/2022'], \n",
    "            kappa=.12,numFactors=3)\n"
   ]
  },
  {
   "cell_type": "code",
   "execution_count": 96,
   "metadata": {},
   "outputs": [
    {
     "data": {
      "text/plain": [
       "array([[0.19599531],\n",
       "       [0.22789755],\n",
       "       [0.26422614]])"
      ]
     },
     "execution_count": 96,
     "metadata": {},
     "output_type": "execute_result"
    }
   ],
   "source": [
    "factorModel(df,factorDF[['MKT','SMB','HML FF']],factorDF['RF'],\n",
    "            kappa=.12, numFactors=3)\n"
   ]
  },
  {
   "cell_type": "markdown",
   "metadata": {},
   "source": [
    "### 5 or 6 factor implementation should be identical and should be able to actually use the same function"
   ]
  },
  {
   "cell_type": "markdown",
   "metadata": {},
   "source": [
    "rolling window\n",
    "\n",
    "\n",
    "get return 1 time period step ahead\n",
    "\n",
    "array of returns each time periods\n",
    "\n",
    "n years of previous data\n",
    "n+1\n",
    "\n",
    "n = 10 only roll for 10 years, stopped\n",
    "\n",
    "do rolling averages of 10-year average... etc"
   ]
  },
  {
   "cell_type": "markdown",
   "metadata": {},
   "source": [
    "# Things to Look into:\n",
    "\n",
    "1. Devil vs FF performance in 3 factor\n",
    "2. Devil vs FF performance in 5 factor (use FF data for all 4 factors and just swap in devil vs not devil)\n",
    "3. Devil vs FF performance in 6 factor (5 factor with momentum factor)\n",
    "4. What is a good rolling window to use for calculation? 5 years back? 2 years? 1 year? how does our window choice effect returns? What is the optimal Window?\n",
    "    * What does this say on how long the market stays constant for?\n"
   ]
  },
  {
   "cell_type": "markdown",
   "metadata": {},
   "source": [
    "# Needed from code perspective:\n",
    "* Overall loop to set lookback and run rolling window\n",
    "* Data for 5 and 6 factor models\n",
    "* Returns calculation given allocation provided by `factorModel`\n",
    "* Performance Metrics "
   ]
  }
 ],
 "metadata": {
  "kernelspec": {
   "display_name": "Python 3 (ipykernel)",
   "language": "python",
   "name": "python3"
  },
  "language_info": {
   "codemirror_mode": {
    "name": "ipython",
    "version": 3
   },
   "file_extension": ".py",
   "mimetype": "text/x-python",
   "name": "python",
   "nbconvert_exporter": "python",
   "pygments_lexer": "ipython3",
   "version": "3.9.7"
  }
 },
 "nbformat": 4,
 "nbformat_minor": 2
}
